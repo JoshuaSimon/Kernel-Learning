{
 "cells": [
  {
   "cell_type": "markdown",
   "metadata": {},
   "source": [
    "# Kernel Learning And Its Application In Non-Linear Support Vector Machines\n",
    "\n",
    "Sven Nekula (Otto-Friedrich-University Bamberg, sven-jason-waldemar.nekula@stud.uni-bamberg.de) <br />\n",
    "Joshua Simon (Otto-Friedrich-University Bamberg, joshua-gunter.simon@stud.uni-bamberg.de) <br />\n",
    "Anastasia Sinitsyna (Otto-Friedrich-University Bamberg, anastasia.sinitsyna@stud.uni-bamberg.de)\n",
    "\n",
    "## Summary\n",
    "In this notebook we discuss the application of kernel learning methods to non-linear support vector machines. Support vector machines (SVMs) are a set of supervised learning methods used for classification and regression. Starting with examples of linearly separable data in a problem space, we will explain the mathematical background to linear SVMs as binary classifiers and discuss limits. This motivates us to use the kernel trick to expand the concepts to non-linear SVMs in order to also classify more complex data examples. In addition to the use of well-known software libraries, this notebook also introduces and compares our own implementation of SVMs. Finally, there is a short overview of different kernels and their application in practical examples.\n",
    "\n",
    "## Overview\n",
    "* [1. Introduction](#1.-Introduction)\n",
    "    * [1.1 Linearly separable data classes](#1.1-Linearly-separable-data-classes)\n",
    "    * [1.2 Similarity and linear algebra](#1.2-Similarity-and-linear-algebra)\n",
    "    * [1.3 Hyperplane classifiers: Solving an optimization problem](#1.3-Hyperplane-classifiers:-Solving-an-optimization-problem)\n",
    "* [2. Linear SVMs](#2.-Linear-SVMs)\n",
    "    * [2.1 Maximum margin separator](#2.1-Maximum-margin-seperator)\n",
    "    * [2.2 Limitations](#2.2-Limitations)\n",
    "* [3. Non-linear SVMs](#3.-Non-linear-SVMs)\n",
    "    * [3.1 The kernel trick](#3.1-The-kernel-trick)\n",
    "    * [3.2 Solving a non-linearly separable classification problem](#3.2-Solving-a-non-linearly-separable-classification-problem)\n",
    "    * [3.3 A closer look at kernels](#3.3-A-closer-look-at-kernels)\n",
    "* [4. More kernel applications](#4.-More-kernel-applications)\n",
    "* [5. Conclusion](#5.-Conclusion)"
   ]
  },
  {
   "cell_type": "markdown",
   "metadata": {},
   "source": [
    "## Python modules"
   ]
  },
  {
   "cell_type": "code",
   "execution_count": 1,
   "metadata": {},
   "outputs": [],
   "source": [
    "import numpy as np\n",
    "\n",
    "from sklearn import svm\n",
    "from sklearn.datasets import make_blobs, make_circles, make_moons\n",
    "\n",
    "import matplotlib.pyplot as plt\n",
    "from mpl_toolkits import mplot3d\n",
    "%matplotlib inline"
   ]
  },
  {
   "cell_type": "markdown",
   "metadata": {},
   "source": [
    "## Helper functions\n",
    "\n",
    "This section contains functions that are not directly related to our topic or fulfill a more general purpose."
   ]
  },
  {
   "cell_type": "code",
   "execution_count": 2,
   "metadata": {},
   "outputs": [],
   "source": [
    "def plot_2D(X, y, legend=False):\n",
    "    \"\"\" \n",
    "    Standard 2D scatter plot. \n",
    "    -----------\n",
    "    Parameters:\n",
    "    - X: matrix with (x1, x2) data points\n",
    "    - y: vector with color labels for individual points\n",
    "    - legend(default = False): if true, legend for labels is shown\n",
    "    -----------\n",
    "    \"\"\"\n",
    "    # Map labels to -1 and + 1.\n",
    "    y = np.where(y == 0, -1, y)\n",
    "    \n",
    "    scatter = plt.scatter(X[:, 0], X[:, 1], c=y)\n",
    "    \n",
    "    if legend:\n",
    "        plt.legend(*scatter.legend_elements(),\n",
    "                    loc=\"upper left\", title=\"Labels\")\n",
    "    \n",
    "\n",
    "def plot_2D_svm(model):\n",
    "    \"\"\" \n",
    "    Draws the decision boundary/margin of a svm model by \n",
    "    estimating more data points of the grid and marks the \n",
    "    support vectors of the passed svm model.\n",
    "    -----------\n",
    "    Parameters:\n",
    "    - model: sklearn.svm.SVC() model object\n",
    "    -----------\n",
    "    \"\"\"\n",
    "    ax = plt.gca()\n",
    "    xlim = ax.get_xlim()\n",
    "    ylim = ax.get_ylim()\n",
    "\n",
    "    # Estimate decision boundary.\n",
    "    xx = np.linspace(xlim[0], xlim[1], 30)\n",
    "    yy = np.linspace(ylim[0], ylim[1], 30)\n",
    "    YY, XX = np.meshgrid(yy, xx)\n",
    "    xy = np.vstack([XX.ravel(), YY.ravel()]).T\n",
    "    Z = model.decision_function(xy).reshape(XX.shape)\n",
    "\n",
    "    # Plot decision boundary/margin.\n",
    "    ax.contour(XX, YY, Z, colors='k', levels=[-1, 0, 1], alpha=0.5,\n",
    "               linestyles=['--', '-', '--'])\n",
    "\n",
    "    # Plot support vectors.\n",
    "    ax.scatter(model.support_vectors_[:, 0], model.support_vectors_[:, 1], s=100,\n",
    "               linewidth=1, facecolors='none', edgecolors='k', \n",
    "               label=\"Support Vectors\")\n",
    "\n",
    "\n",
    "def plot_3D(X, y, z, elev=30, azim=30):\n",
    "    \"\"\" \n",
    "    Plots rotatable 3D scatter plot with scaled z-axis. \n",
    "    -----------\n",
    "    Parameters:\n",
    "    - X: matrix with (x1, x2) data points\n",
    "    - y: vector with color labels for individual points\n",
    "    - z: vector with scale levels for individual points\n",
    "    - elev, azim: view angles\n",
    "    -----------\n",
    "    \"\"\"\n",
    "    ax = plt.subplot(projection='3d')\n",
    "    ax.scatter3D(X[:, 0], X[:, 1], z, c=y, s=50)\n",
    "    ax.view_init(elev=elev, azim=azim)\n",
    "    ax.set_xlabel(r\"$x_1$\")\n",
    "    ax.set_ylabel(r\"$x_2$\")\n",
    "    ax.set_zlabel(r\"$z$\")"
   ]
  },
  {
   "cell_type": "markdown",
   "metadata": {},
   "source": [
    "# 1. Introduction\n",
    "\n",
    "## 1.1 Linearly separable data classes\n",
    "First, let's consider a given data set $\\mathcal{X}$ of labeled points (inputs) with individual labels $y_i \\in \\left\\{ -1,1 \\right\\}$, e.g. $(x_1,y_1), ..., (x_m, y_m) \\in \\mathcal{X} \\times \\left\\{ -1,1 \\right\\}$. Our goal is to implement a classification method, which is able to classify new and unlabeld data points with the right or \"best\" label. In machine learning, a well established classification method are the so called __Support Vector Machines__ (SVM). Developed by Vladimir Vapnik and his coworkers in the 1990s, SVMs are still a relevant topic and an even more powerful tool for __classification__ and __regression__.\n",
    "\n",
    "The following example shows a data set $\\mathcal{X}$, which is linearly separable. By that we mean, that the labeled data can be separated by a straight line, so that each point with label $-1$ is on one side of the line and each point with label $1$ on the other side. The `make_blobs` function from the `sklearn.datasets` module can be used to generate some example data. The wrapper function `plot_2D` is used to draw a scatter plot of the generated data."
   ]
  },
  {
   "cell_type": "code",
   "execution_count": 3,
   "metadata": {},
   "outputs": [
    {
     "data": {
      "image/png": "[encoded data removed]",
      "text/plain": [
       "<Figure size 432x288 with 1 Axes>"
      ]
     },
     "metadata": {
      "needs_background": "light"
     },
     "output_type": "display_data"
    }
   ],
   "source": [
    "X, y = make_blobs(n_samples=20, centers=2, center_box=(-5.0, 5.0), random_state=1)\n",
    "plot_2D(X, y, legend=True)"
   ]
  },
  {
   "cell_type": "markdown",
   "metadata": {},
   "source": [
    "## 1.2 Similarity and linear algebra\n",
    "\n",
    "We now will briefly discuss similarity and some core concepts of linear algebra.\n",
    "\n",
    "### Similarity\n",
    "To perform a classification, a similarity measure is needed. Finding a suitable measure is a core problem of machine learning. For now let's consider\n",
    "\n",
    "\n",
    "\\begin{equation}\n",
    "    \\begin{aligned}\n",
    "        k: \\mathcal{X} \\times \\mathcal{X} & \\rightarrow \\mathbb{R} \\\\\n",
    "        (x, x') & \\mapsto k(x, x')\n",
    "    \\end{aligned}\n",
    "\\label{eq:kernel} \\tag{1}\n",
    "\\end{equation}\n",
    "\n",
    "\n",
    "where $k$ is a function that, given to patterns $x$ and $x'$, returns a real number characterizing their similarity. \n",
    "This function $k$ is called a **kernel**. Unless stated otherwise, $k(x, x') = k(x', x)$."
   ]
  },
  {
   "cell_type": "markdown",
   "metadata": {},
   "source": [
    "### Dot product and vector norm\n",
    "A simple type of similarity measure is a **dot product**. Given two vectors $x, x' \\in \\mathbb{R}^m$ the canonical dot product is defined as\n",
    "\n",
    "\\begin{equation}\n",
    "    \\langle x,x' \\rangle = (x')^T x = \\sum_{i = 1}^{m} [x]_i [x']_i,\n",
    "\\label{eq:dotproduct} \\tag{2}\n",
    "\\end{equation}\n",
    "\n",
    "where $\\left[x\\right]_i$ denotes the $i$th entry of $x$. Futhermore this allows a calculation of the **norm** (length) of a single vector $x$ as\n",
    "\n",
    "\\begin{equation}\n",
    "    \\left\\lVert x \\right\\rVert = \\sqrt{\\langle x,x \\rangle}.\n",
    "\\label{eq:nrom} \\tag{3}\n",
    "\\end{equation}\n",
    "\n",
    "Given a vector space $\\mathcal{V}$ (mostly over $\\mathbb{R}$ or $\\mathbb{C}$) and a dot product, one can define a so called **dot product space** or **Pre-Hilbert space** $\\mathcal{H}$, where every pair of elements $x, x' \\in \\mathcal{V}$ is assigned to a scalar value, the dot product of $x$ and $x'$ [**ADD SOURCE Bronstein, 2020**]\n",
    "\n",
    "More properties of vector spaces, dot products and norms can be found in **ADD SOURCE LIESEN, 2015**.\n",
    "\n"
   ]
  },
  {
   "cell_type": "markdown",
   "metadata": {},
   "source": [
    "### Hyperplanes\n",
    "\n",
    "A __hyperplane__ is a subspace $S$ whose dimension is one less than that of its surrounding space $X$ \n",
    "\n",
    "\\begin{equation*}\n",
    "    dim(S) = dim(X) - 1.\n",
    "\\end{equation*}\n",
    "\n",
    "Here, $X$ is our problem space, so $X = \\mathcal{X}$. In Cartesian coordinates, such a hyperplane can be described with a single linear equation of the following form \n",
    "\n",
    "\\begin{equation*}\n",
    "    w_1 x_1 + w_2 x_2 + \\dots + w_m x_m = b,\n",
    "\\end{equation*}\n",
    "\n",
    "where at least one $w_i$ is non-zero and $x_i, w_i, b \\in \\mathbb{R}$. So a hyperplane in a three-dimensional problem space $\\mathcal{X}$ has dimension $dim(S) = 2$ and the shape of a plane. In a two-dimensional problem space, the shape of the hyperplane results as a straight line with $dim(S) = 1$."
   ]
  },
  {
   "cell_type": "markdown",
   "metadata": {},
   "source": [
    "## 1.3 Hyperplane classifiers: Solving an optimization problem\n",
    "\n",
    "The underlying learning algorithm of SVMs yields to find a hyperplane in some dot product space $\\mathcal{H}$, which separates the data. A hyperplane of the form\n",
    "\n",
    "\\begin{equation}\n",
    "    \\langle w,x \\rangle + b = 0\n",
    "\\label{eq:hyperplane} \\tag{4}\n",
    "\\end{equation}\n",
    "\n",
    "where $w \\in \\mathcal{H}, b \\in \\mathbb{R}$ shall be considered **ADD SOURCE SCHÖLLKOPF**. Here, $w$ is a weight vector, which can be seen as the normal vector of the hyperplane, while $b$ is a bias correcting the offset from the origin. Futhermore decision functions\n",
    "\n",
    "\\begin{equation}\n",
    "    f(x) = sgn \\left( \\langle w,x \\rangle + b \\right)\n",
    "\\label{eq:decfun1} \\tag{5}\n",
    "\\end{equation}\n",
    "    \n",
    "can be assigned. By passing the hyperplane equation as an argument to the sign function $sgn(\\cdot)$, $f(x)$ will return $-1$ if the input $x$ is on one side of the hyperplane and $1$ if the input is on the other side.\n",
    "\n",
    "As the data from our introductory example suggests, there are several solutions for such a hyperplane. The next figure shows three possible hyperplanes, each of which separates the data set in a linear manner. "
   ]
  },
  {
   "cell_type": "code",
   "execution_count": 4,
   "metadata": {},
   "outputs": [
    {
     "data": {
      "text/plain": [
       "<matplotlib.legend.Legend at 0x7fb9928037c0>"
      ]
     },
     "execution_count": 4,
     "metadata": {},
     "output_type": "execute_result"
    },
    {
     "data": {
      "image/png": "[encoded data removed]",
      "text/plain": [
       "<Figure size 432x288 with 1 Axes>"
      ]
     },
     "metadata": {
      "needs_background": "light"
     },
     "output_type": "display_data"
    }
   ],
   "source": [
    "plot_2D(X, y)\n",
    "plt.axline((-6.5, 1.0), slope=-0.4, linestyle='--', color='black', label='Hyperplane 1')\n",
    "plt.axline((-6.5, 4.0), slope=-1.4, linestyle='-.', color='blue', label='Hyperplane 2')\n",
    "plt.axline((-4.2, 4.0), slope=-1.2, linestyle=':', color='green', label='Hyperplane 3')\n",
    "plt.legend()"
   ]
  },
  {
   "cell_type": "markdown",
   "metadata": {},
   "source": [
    "This begs the question of whether one can find an optimal hyperplane that has the best classification properties. In the next steps, we will make use of the mathematical optimization theory and introduce a toolchain of procedures that allow us to calculate the best possible hyperplane.\n",
    "\n",
    "### A contrained optimization problem\n",
    "The **optimal hyperplane** can be calculated by finding the normal vector $w$ that leads to the largest margin. Thus we need to solve the optimization problem\n",
    "\n",
    "\\begin{equation}\n",
    "    \\begin{aligned}\n",
    "        \\min_{w \\in \\mathcal{H}, b \\in \\mathbb{R}} \\quad & \\tau (w) = \\frac{1}{2} \\lVert w \\rVert^2 \\\\\n",
    "        \\textrm{subject to} \\quad & y_{i} \\left( \\langle w,x \\rangle + b \\right) \\geq 1 \\text{ } \\forall i = {1, \\dots, m}. \n",
    "    \\end{aligned}\n",
    "\\label{eq:objfun} \\tag{6}\n",
    "\\end{equation}\n",
    "\n",
    "The constraints in $\\eqref{eq:objfun}$ ensure that $f(x_i)$ will be $+1$ for $y_i = +1$ and $-1$ for  $y_i = -1$. The $\\geq 1$ on the right hand side of the constraints effectively fixes the scaling of $w$. This leads to the maximum margin hyperplane. A detailed explanation can be found in **ADD SOURCE SCHÖLLKOPF** [1]. The problem in $\\eqref{eq:objfun}$ is also called a contrained optimization problem. We will also refer to this problem as our __primal__ problem with the __primal variables__ $w$ and $b$.\n",
    "\n",
    "### Lagrangian\n",
    "The constrained optimization problem in $\\eqref{eq:objfun}$ can be re-written using the method of __Lagrange multipliers__. This leads to the Lagrangian\n",
    "\n",
    "\\begin{equation}\n",
    "    L(w,b,\\alpha) = \\frac{1}{2} \\lVert w \\rVert^2 - \\sum_{i=1}^{m} \\alpha_i \\left( y_{i} \n",
    "    \\left( \\langle w,x \\rangle + b \\right) - 1 \\right)\\\\\n",
    "    \\textrm{subject to} \\quad \\alpha_i \\geq 0 \\text{ } \\forall i = {1, \\dots, m}.\n",
    "\\label{eq:Lagrangian} \\tag{7}\n",
    "\\end{equation}\n",
    "\n",
    "Here, $\\alpha_i$ are the Lagrange multipliers. The Lagrangian $L$ has to be minimized with respect to the primal variables $w$ and $b$ and maximized with respect to the dual variables $\\alpha_i$ (in other words, a saddle point has to be found).\n",
    "\n",
    "### KKT conditions\n",
    "The __Karush-Kuhn-Tucker (KKT)__ complementarity conditions of optimization theory state, that at the saddle point, the derivatives of $L$ with respect to the primal variables must vanish, so\n",
    "\n",
    "\\begin{equation}\n",
    "    \\frac{\\partial}{\\partial b} L(w,b,\\alpha) = 0 \\text{ and } \\frac{\\partial}{\\partial w} L(w,b,\\alpha) = 0\n",
    "\\label{eq:KKT} \\tag{8}\n",
    "\\end{equation}\n",
    "\n",
    "leads to\n",
    "\n",
    "\\begin{equation}\n",
    "    \\sum_{i=1}^{m} \\alpha_i y_i = 0 \\text{ and } w = \\sum_{i=1}^{m} \\alpha_i y_i x_i.\n",
    "\\label{eq:KKT2} \\tag{9}\n",
    "\\end{equation}\n",
    "\n",
    "The solution vector $w$ thus has an expansion in terms of a subset of the training patterns, namely those patterns with non-zero $\\alpha_i$, called Support Vectors (SVs).\n",
    "\n",
    "### Dual optimization problem\n",
    "We can again re-write our optimization problem by substituting $\\eqref{eq:KKT2}$ into the Lagrangian $\\eqref{eq:Lagrangian}$ to eliminate the primal variables. This yields the dual optimization problem, which is usually solved in practice\n",
    "\n",
    "\\begin{equation}\n",
    "    \\begin{aligned}\n",
    "            \\max_{\\alpha \\in \\mathbb{R}^m} \\quad & W(\\alpha) = \\sum_{i=1}^{m} \\alpha_i - \\frac{1}{2} \\sum_{i,j=1}^{m} \\alpha_i \n",
    "            \\alpha_j y_i y_j \\langle x_i,x_j \\rangle \\\\\n",
    "            \\textrm{subject to} \\quad & \\alpha_i \\geq 0 \\text{ } \\forall i = {1, \\dots, m} \\text{ and } \\sum_{i=1}^{m} \n",
    "            \\alpha_i y_i = 0. \n",
    "    \\end{aligned}\n",
    "\\label{eq:DuOpPr} \\tag{10}\n",
    "\\end{equation}\n",
    "\n",
    "The dual optimization problem $\\eqref{eq:DuOpPr}$ is a **convex quadratic programming problem** and therefore can be solved by using standard optimization techniques. \n",
    "\n",
    "Finally, the decision function can be re-written using $\\eqref{eq:KKT2}$ as\n",
    "\n",
    "\\begin{equation}\n",
    "    f(x) = sgn \\left( \\sum_{i=1}^{m} \\alpha_i y_i \\langle x,x_i \\rangle + b \\right),\n",
    "\\label{eq:decfun2} \\tag{11}\n",
    "\\end{equation}\n",
    "\n",
    "where $b$ can be computed by exploiting $\\alpha_i \\left[ y_i \\left( \\langle x_i,w \\rangle + b \\right) - 1 \\right] = 0$, which follows from the KKT conditions.\n",
    "\n",
    "\n",
    "Details on mathematical optimization and convex constrained problems can be found in **ADD SOURCE JARRE**. Explanations on dealing with non-linear problems are given in **ADD SOURCE REINHARDT**."
   ]
  },
  {
   "cell_type": "markdown",
   "metadata": {},
   "source": [
    "# 2. Linear SVMs\n",
    "\n",
    "This section deals with the application of linear support vector machines on different data examples and shows some limitations of the linear approach. Later soft margin classifier are introduced to show a tool, that can handle some more problems and has a greater relevance in real life applications. However, we will see the limits of the method when only using a linear SVM."
   ]
  },
  {
   "cell_type": "markdown",
   "metadata": {},
   "source": [
    "## 2.1 Maximum margin seperator\n",
    "We now have all the theoretical background to go back to our inital classification problem. We can implement a SVM as a maximum margin separator for the given data set $\\mathcal{X}$. Since our similarity measure $k(x, x_i)$ is expressed only through the canonical dot product $\\langle x, x_i \\rangle$, our kernel is called a __linear kernel__. Thus we speak of linear SVMs in this section.\n",
    "\n",
    "The following example uses the `sklearn.svm` implementation to create the model as a support vector classifier `SVC()` and the `fit()` method to train the model with our generated example data. In the model initialization, the `kernel` argument can be set to `'linear'`to apply the linear kernel. Here, `X`is a matrix containing the coordinates of our input patterns and `y`a vector containing the label information. After that, the data is plotted again with `plot_2D()` and the support vectors and decision boundary/margin are added to the figure by calling `plot_2D_svm()`. The support vectors are marked with a circle around the data point."
   ]
  },
  {
   "cell_type": "code",
   "execution_count": 5,
   "metadata": {},
   "outputs": [
    {
     "data": {
      "text/plain": [
       "<matplotlib.legend.Legend at 0x7fb98035ea60>"
      ]
     },
     "execution_count": 5,
     "metadata": {},
     "output_type": "execute_result"
    },
    {
     "data": {
      "image/png": "[encoded data removed]",
      "text/plain": [
       "<Figure size 432x288 with 1 Axes>"
      ]
     },
     "metadata": {
      "needs_background": "light"
     },
     "output_type": "display_data"
    }
   ],
   "source": [
    "# Creating/fitting the model.\n",
    "model_linear = svm.SVC(kernel='linear')\n",
    "model_linear.fit(X, y)\n",
    "\n",
    "# Plot the fit for the given example.\n",
    "plot_2D(X, y, legend=False)\n",
    "plot_2D_svm(model_linear)\n",
    "plt.legend(loc=\"upper left\")"
   ]
  },
  {
   "cell_type": "markdown",
   "metadata": {},
   "source": [
    "## 2.2 Limitations\n",
    "Let's consider following data set."
   ]
  },
  {
   "cell_type": "code",
   "execution_count": 6,
   "metadata": {},
   "outputs": [
    {
     "data": {
      "image/png": "[encoded data removed]",
      "text/plain": [
       "<Figure size 432x288 with 1 Axes>"
      ]
     },
     "metadata": {
      "needs_background": "light"
     },
     "output_type": "display_data"
    }
   ],
   "source": [
    "X, y = make_blobs(n_samples=20, centers=2, cluster_std = 4.5 ,random_state=123)\n",
    "plot_2D(X, y, legend=True)"
   ]
  },
  {
   "cell_type": "markdown",
   "metadata": {},
   "source": [
    "As one can easily see, it is now much more difficult to find a separating linear hyperplane for these type of data. However, by allowing our classifier to make some 'mistakes' and therefore soften the optimazation constraints, we shall find a hyperplane for separating the data. This concept is called soft margin hyperplanes or soft margin separator/classifier and is introduced in the following section."
   ]
  },
  {
   "cell_type": "markdown",
   "metadata": {},
   "source": [
    "### Soft Margin Hyperplanes\n",
    "We introduce a slack variable\n",
    "\n",
    "\\begin{equation}\n",
    "    \\xi_{ i } \\geq 0 \\text{ } \\forall i = {1, \\dots, m}\n",
    "\\label{eq:Xi} \\tag{12}\n",
    "\\end{equation}\n",
    "\n",
    "in the simplest case, this leads to \n",
    "\n",
    "\\begin{equation}\n",
    "    \\begin{aligned}\n",
    "        \\min_{w \\in \\mathcal{H}, \\xi \\in \\mathbb{R}^{n}} \\quad & \\tau (w, \\xi) = \\frac{1}{2} \\lVert w \\rVert^2 + \n",
    "        \\frac{C}{m} \n",
    "        \\sum_{i=1}^{m} \\xi_{i} \\\\\n",
    "        \\textrm{subject to} \\quad & y_{i} \\left( \\langle w,x \\rangle + b \\right) \\geq 1 - \\xi_{i} \\text{ } \n",
    "        \\forall i = {1, \\dots, m}. \n",
    "    \\end{aligned}\n",
    "\\label{eq:objfun2} \\tag{13}\n",
    "\\end{equation}\n",
    "\n",
    "By making $\\xi_{i}$ large enough, the constraint can always be met, which is why we penalize them in the objective function with $\\frac{C}{m}$, where $C \\in \\mathbb{R}$ is a regularization parameter.\n",
    "\n",
    "Our dual optimization problem also gets re-written as\n",
    "\n",
    "\\begin{equation}\n",
    "    \\begin{aligned}\n",
    "        \\max_{\\alpha \\in \\mathbb{R}^m} \\quad & W(\\alpha) = \\sum_{i=1}^{m} \\alpha_i - \\frac{1}{2} \\sum_{i,j=1}^{m} \\alpha_i \n",
    "        \\alpha_j y_i y_j \\langle x_i,x_j \\rangle \\\\\n",
    "        \\textrm{subject to} \\quad & 0 \\leq \\alpha_i \\leq \\frac{C}{m} \\text{ } \\forall i = {1, \\dots, m} \\text{ and } \n",
    "        \\sum_{i=1}^{m} \\alpha_i y_i = 0. \n",
    "    \\end{aligned}\n",
    "\\label{eq:DuOpPr2} \\tag{14}\n",
    "\\end{equation}\n",
    "\n",
    "This classifier is referred to as C-SV classifier and can be used to prevent overfitting by allowing the classifier to make false classifications. More classifiers using soft margins can be found in **ADD SOURCE SCHÖLLKOPF**. \n",
    "\n",
    "The following example shows the influence of $C$ on the hyperplane and its margin. For this the `sklearn.svm.SVC()` class can still be used by specifying the `C` parameter in the initialization of the model object. The strength of the regularization is inversely proportional to `C` (see <https://github.com/scikit-learn/scikit-learn/blob/main/sklearn/svm/_classes.py>).  The runtime of the calculation will increase, when `C` becomes big."
   ]
  },
  {
   "cell_type": "code",
   "execution_count": null,
   "metadata": {},
   "outputs": [
    {
     "data": {
      "image/png": "[encoded data removed]",
      "text/plain": [
       "<Figure size 432x288 with 1 Axes>"
      ]
     },
     "metadata": {
      "needs_background": "light"
     },
     "output_type": "display_data"
    },
    {
     "name": "stdout",
     "output_type": "stream",
     "text": [
      "Number of support vectors: 20, C = 1e-05\n"
     ]
    },
    {
     "data": {
      "image/png": "[encoded data removed]",
      "text/plain": [
       "<Figure size 432x288 with 1 Axes>"
      ]
     },
     "metadata": {
      "needs_background": "light"
     },
     "output_type": "display_data"
    },
    {
     "name": "stdout",
     "output_type": "stream",
     "text": [
      "Number of support vectors: 11, C = 0.01\n"
     ]
    },
    {
     "data": {
      "image/png": "[encoded data removed]",
      "text/plain": [
       "<Figure size 432x288 with 1 Axes>"
      ]
     },
     "metadata": {
      "needs_background": "light"
     },
     "output_type": "display_data"
    },
    {
     "name": "stdout",
     "output_type": "stream",
     "text": [
      "Number of support vectors: 7, C = 1\n"
     ]
    }
   ],
   "source": [
    "C = [0.00001, 0.01, 1, 1e6]\n",
    "\n",
    "for c in C:\n",
    "    model_slack = svm.SVC(kernel='linear', C=c)\n",
    "    model_slack.fit(X, y)\n",
    "\n",
    "    plot_2D(X, y)\n",
    "    plot_2D_svm(model_slack)\n",
    "    plt.title(f\"C = {c}\")\n",
    "    plt.show()\n",
    "\n",
    "    print(f\"Number of support vectors: {len(model_slack.support_vectors_[:, 0])}, C = {c}\")"
   ]
  },
  {
   "cell_type": "markdown",
   "metadata": {},
   "source": [
    "We can see, that we can get acceptable results using the soft margin hyperplane classifier. The key is to find a suitable regularization parameter $C$. This is often one of the hardest tasks, since a priori estimations for $C$ can not be made. To find a satisfying $C$, techniques like cross validation can be used.\n",
    "\n",
    "Even though we have now found a valuable tool in soft margins, there are a number of problems in practice that cannot be solved with this alone. Let's consider following data sets."
   ]
  },
  {
   "cell_type": "code",
   "execution_count": null,
   "metadata": {},
   "outputs": [],
   "source": [
    "X_moon, y_moon = make_moons(n_samples = 100, noise = 0.1, random_state = 123)\n",
    "plot_2D(X_moon, y_moon)"
   ]
  },
  {
   "cell_type": "code",
   "execution_count": null,
   "metadata": {},
   "outputs": [],
   "source": [
    "X_circle, y_circle = make_circles(n_samples = 100, factor = 0.4, noise = 0.1, random_state = 321)\n",
    "plot_2D(X_circle, y_circle)"
   ]
  },
  {
   "cell_type": "markdown",
   "metadata": {},
   "source": [
    "If we try to separate this data with our previous methods, we quickly come up against limits. It is easy to see that such predictions cannot be used. "
   ]
  },
  {
   "cell_type": "code",
   "execution_count": null,
   "metadata": {},
   "outputs": [],
   "source": [
    "lin_model_moon = svm.SVC(kernel='linear')\n",
    "lin_model_moon.fit(X_moon, y_moon)\n",
    "\n",
    "plot_2D(X_moon, y_moon)\n",
    "plot_2D_svm(lin_model_moon)"
   ]
  },
  {
   "cell_type": "code",
   "execution_count": null,
   "metadata": {},
   "outputs": [],
   "source": [
    "lin_model_circle = svm.SVC(kernel='linear')\n",
    "lin_model_circle.fit(X_circle, y_circle)\n",
    "\n",
    "plot_2D(X_circle, y_circle)\n",
    "plot_2D_svm(lin_model_circle)"
   ]
  },
  {
   "cell_type": "markdown",
   "metadata": {},
   "source": [
    "# 3. Non-linear SVMs\n",
    "\n",
    "As seen before, there can be plenty of problems, which can not be separated well with the linear kernel. This section will cover a mathematical trick, that can be used to implicitly transform your given dataset $\\mathcal{X}$ to a different dot product space with a higher dimension. In this space, our dataset will again become linearly separable.\n",
    "\n",
    "## 3.1 The kernel trick\n",
    "To extend the introduced SVM algorithm, we can substitute ([11](#mjx-eqn-decfun2)) by applying a kernel of the form\n",
    "\n",
    "**FIX REFERENCE?**\n",
    "\n",
    "\\begin{equation}\n",
    "    k(x,x') = \\langle \\Phi (x), \\Phi (x') \\rangle\n",
    "\\tag{15}\n",
    "\\end{equation}\n",
    "\n",
    "where \n",
    "\n",
    "\\begin{equation}\n",
    "    \\begin{aligned}\n",
    "        \\Phi: \\mathcal{X} & \\rightarrow \\mathcal{H} \\\\\n",
    "        (x) & \\mapsto \\Phi (x)\n",
    "    \\end{aligned}\n",
    "\\tag{16}\n",
    "\\end{equation}\n",
    "\n",
    "is a function that maps an input from $ \\mathcal{X} $ into a dot product space $ \\mathcal{H} $. This is referred to as the **kernel trick**. We then obtain decision functions of the form\n",
    "\n",
    "\\begin{equation}\n",
    "    f(x) = sgn \\left( \\sum_{i=1}^{m} \\alpha_i y_i \\langle \\Phi (x), \\Phi (x_i) \\rangle + b \\right) \\\\ \n",
    "    = sgn \\left( \\sum_{i=1}^{m} \\alpha_i y_i k(x,x_i) + b \\right)\n",
    "\\tag{17}\n",
    "\\end{equation}\n",
    "\n",
    "and the optimization problem\n",
    "\n",
    "\\begin{equation} \\label{eq:6}\n",
    "    \\begin{aligned}\n",
    "            \\max_{\\alpha \\in \\mathbb{R}^m} \\quad & W(\\alpha) = \\sum_{i=1}^{m} \\alpha_i - \\frac{1}{2} \\sum_{i,j=1}^{m} \n",
    "            \\alpha_i \\alpha_j y_i y_j k(x, x_i) \\\\\n",
    "            \\textrm{subject to} \\quad & \\alpha_i \\geq 0 \\text{ } \\forall i = {1, \\dots, m} \\text{ and } \\sum_{i=1}^{m} \n",
    "            \\alpha_i y_i = 0. \n",
    "    \\end{aligned}\n",
    "\\tag{18}\n",
    "\\end{equation}\n",
    "\n",
    "This enables us to operate in a high-dimensional, implicit feature space without ever computing the coordinates of the data $\\mathcal{X}$ in that space, but rather by simply computing the dot products or kernel representations $k(x,x_i)$ between the images of all pairs of data in the feature space. This operation is often computationally cheaper than the explicit computation of the coordinates __[wiki, kernel]__. So we do not need to calculate the map function $\\Phi(x)$ to transform our inputs $x$. The $m \\times m$ Matrix $K$ with elements $K_{ij} = k(x_i, x_j)$ is called the **Gram matrix** (or kernel matrix) of $k$. A kernel $k$ is called **positive definite kernel** when the Gram matrix $K$ is positive definite. \n",
    "\n",
    "As stated in **ADD SOURCE SCHÖLLKOPF**: _\"Given an algorithm which is formulated in terms of a positive definite kernel $k$, one can construct an alternative algorithm by replacing $k$ by another positive definite kernel $\\tilde{k}$\"_. The kernel trick can be applied since all feature vectors only occurred in dot products. A more precise explanation can be found in **ADD SOURCE SCHÖLLKOPF**.\n",
    "\n",
    "## 3.2 Solving a non-linearly separable classification problem\n",
    "\n",
    "### A suitable kernel\n",
    "Going back to our problem of non-linearly separable data, we can use a kernel function of the form\n",
    "\n",
    "\\begin{equation}\n",
    "    k(x, x') = \\exp \\left( - \\frac{\\left\\lVert x - x' \\right\\rVert^2}{2 \\sigma^2} \\right),\n",
    "\\tag{19}\n",
    "\\end{equation}\n",
    "\n",
    "a so called __Gaussian radial basis function__ (GRBF or RBF kernels) with $ \\sigma > 0$."
   ]
  },
  {
   "cell_type": "code",
   "execution_count": null,
   "metadata": {},
   "outputs": [],
   "source": [
    "def rbf(X, sigma=1):\n",
    "    \"\"\" Radial basis function for scaling data in 3rd dimension. \"\"\"\n",
    "    return np.exp(-(X ** 2).sum(1) / (2 * sigma))"
   ]
  },
  {
   "cell_type": "markdown",
   "metadata": {},
   "source": [
    "Each of the two following examples shows the mapping of the data from our two-dimensional problem space to a higher-dimensional feature space in the first plot. Here, the latter is a three-dimensional space. The mapping is calculated by evaluating the `rbf()` function for $ \\mathcal{X} $ with `sigma=np.var(X)`, which returns the variance of $ \\mathcal{X} $. The `plot_3D()` function is used to draw a three-dimensional scatter plot of the scaled data. \n",
    "\n",
    "We then create our non-linear model using the `sklearn.svm.SVC()` class by passing `kernel='rbf'` to the constructor. In the second plot, the corresponding separating hyperplane in the original problem space is shown. One can see, that the hyperplane now becomes a non-linear curve. We will call this type of support vector machines non-linear SVMs."
   ]
  },
  {
   "cell_type": "code",
   "execution_count": null,
   "metadata": {},
   "outputs": [],
   "source": [
    "# Example 1:\n",
    "# Plot the data in a higher-dimensional space.\n",
    "plot_3D(X=X_moon, y=y_moon, z=rbf(X_moon, np.var(X_moon)))\n",
    "plt.show()\n",
    "\n",
    "# Create and fit the non-linear model using the 'rbf' kernel.\n",
    "non_lin_model_moon = svm.SVC(kernel='rbf', C=10)\n",
    "non_lin_model_moon.fit(X_moon, y_moon)\n",
    "\n",
    "# Plot the separating hyperplane in the original problem space.\n",
    "plot_2D(X_moon, y_moon)\n",
    "plot_2D_svm(non_lin_model_moon)\n",
    "plt.show()"
   ]
  },
  {
   "cell_type": "code",
   "execution_count": null,
   "metadata": {},
   "outputs": [],
   "source": [
    "# Example 2:\n",
    "# Plot the data in a higher-dimensional space.\n",
    "plot_3D(X=X_circle, y=y_circle, z=rbf(X_circle, np.var(X_circle)))\n",
    "plt.show()\n",
    "\n",
    "# Create and fit the non-linear model using the 'rbf' kernel.\n",
    "non_lin_model_circle = svm.SVC(kernel='rbf')\n",
    "non_lin_model_circle.fit(X_circle, y_circle)\n",
    "\n",
    "# Plot the separating hyperplane in the original problem space.\n",
    "plot_2D(X_circle, y_circle)\n",
    "plot_2D_svm(non_lin_model_circle)\n",
    "plt.show()"
   ]
  },
  {
   "cell_type": "markdown",
   "metadata": {},
   "source": [
    "## 3.3 A closer look at kernels\n",
    "\n",
    "### Example of kernels\n",
    "An overview of common kernels:\n",
    "\n",
    "* **Linear**: $k(x,x') = \\langle x, x' \\rangle$\n",
    "* **Polynomial**:  $k(x,x') = \\langle x, x' \\rangle^{d}, d \\in \\mathbb{N}$\n",
    "* **Inhomogeneous Polynomial**: $k(x,x') = \\left( \\langle x, x' \\rangle + c \\right)^{d}, d \\in \\mathbb{N}, \n",
    "    c \\geq 0$\n",
    "* **Gaussian**: $k(x, x') = \\exp \\left( - \\frac{\\left\\lVert x - x' \\right\\rVert^2}{2 \\sigma^2} \\right), \n",
    "    \\sigma > 0$\n",
    "* **Sigmoid**: $k(x, x') = \\tanh \\left( \\kappa \\langle x, x' \\rangle + \\vartheta \\right), \\kappa > 0, \\vartheta < 0$\n",
    "\n",
    "These kernels are implemented in the Python module scikit-learn `sklearn.svm` based on the libsvm implementation in C++ by Chih-Chung Chang and Chih-Jen Lin \\cite{libsvm}."
   ]
  },
  {
   "cell_type": "markdown",
   "metadata": {},
   "source": [
    "# 4. More kernel applications\n",
    "Some interesting kernel applications:\n",
    "* Image recognition/classification (with SVMs) for example in \n",
    "    * Handwriting recognition\n",
    "    * Tumor detection\n",
    "* Computer vision and computer graphics, 3D reconstruction\n",
    "* Kernel principal component analysis"
   ]
  },
  {
   "cell_type": "markdown",
   "metadata": {},
   "source": [
    "# 5. Conclusion"
   ]
  },
  {
   "cell_type": "markdown",
   "metadata": {},
   "source": [
    "# References\n",
    "\n",
    "- [1] Schölkopf, Bernhard, Alexander J. Smola: _Learning with Kernels: Support Vector Machines, Regularization, Optimization, and Beyond._ MIT press, 2002.\n",
    "- [2] Liesen, Jörg, Volker Mehrmann: _Lineare Algebra._ Wiesbaden, Germany: Springer, 2015.\n",
    "- [3] Jarre, Florian, Josef Stoer: _Optimierung: Einführung in mathematische Theorie und Methoden._ Springer-Verlag, 2019.\n",
    "- [4] Reinhardt, Rüdiger, Armin Ho mann, Tobias Gerlach: _Nichtlineare Optimierung: Theorie, Numerik und Experimente._ Springer-Verlag, 2012.\n",
    "- [5] Bronstein, Ilja N., et al.: _Taschenbuch der Mathematik._ 11. Auflage, Springer-Verlag, 2020.\n",
    "- [6] Chang, Chih-Chung, Chih-Jen Lin: _LIBSVM : A library for support vector machines._ ACM Transactions on Intelligent Systems and Technology, 2:27:1-27:27, 2011. Software available at https://www.csie.ntu.edu.tw/~cjlin/libsvm/.\n",
    "- [7] Wikipedia contributors: _Kernel method_. Wikipedia, The Free Encyclopedia, 11 Jun. 2021. Web. 20 Jun. 2021 at https://en.wikipedia.org/wiki/Kernel_method."
   ]
  },
  {
   "cell_type": "code",
   "execution_count": null,
   "metadata": {},
   "outputs": [],
   "source": []
  }
 ],
 "metadata": {
  "kernelspec": {
   "display_name": "Python 3",
   "language": "python",
   "name": "python3"
  },
  "language_info": {
   "codemirror_mode": {
    "name": "ipython",
    "version": 3
   },
   "file_extension": ".py",
   "mimetype": "text/x-python",
   "name": "python",
   "nbconvert_exporter": "python",
   "pygments_lexer": "ipython3",
   "version": "3.8.5"
  },
  "metadata": {
   "interpreter": {
    "hash": "dca0ade3e726a953b501b15e8e990130d2b7799f14cfd9f4271676035ebe5511"
   }
  }
 },
 "nbformat": 4,
 "nbformat_minor": 2
}
